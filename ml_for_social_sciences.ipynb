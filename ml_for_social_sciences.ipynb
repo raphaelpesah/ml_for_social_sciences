{
  "cells": [
    {
      "cell_type": "markdown",
      "id": "6d307ec9-472e-4959-9357-324647dedfa2",
      "metadata": {
        "id": "6d307ec9-472e-4959-9357-324647dedfa2"
      },
      "source": [
        "# Setup"
      ]
    },
    {
      "cell_type": "code",
      "execution_count": null,
      "id": "d2e526b1-4894-4c25-af0a-50a79d361cc2",
      "metadata": {
        "tags": [],
        "id": "d2e526b1-4894-4c25-af0a-50a79d361cc2"
      },
      "outputs": [],
      "source": [
        "import pandas as pd\n",
        "import numpy as np\n",
        "\n",
        "# Instructions can be found here: https://drive.google.com/file/d/1CQjb0nyx6AlzYp2LQcnBeLMPBYLlhJwV/view?usp=sharing\n",
        "# Reading in the test and train employee survey data\n",
        "train_df = pd.read_csv('C:/Users/Fullstack1/Documents/Cours/2022-2023 M1 QESS/Artificial intelligence & Social sciences/AIandSHS/train.csv', low_memory=False) # p-ê ajouter en dernier paramètre , na_values=\"?\"\n",
        "# For low_memory argument https://stackoverflow.com/a/33161955 ; for na_values see \"Visualizing scikit-learn pipelines in Jupyter\" and https://inria.github.io/scikit-learn-mooc/python_scripts/datasets_ames_housing.html\n",
        "test_df = pd.read_csv('C:/Users/Fullstack1/Documents/Cours/2022-2023 M1 QESS/Artificial intelligence & Social sciences/AIandSHS/test.csv', na_values=\"?\")\n",
        "\n",
        "#Initial modifications of the data\n",
        "\n",
        "target_column = \"ANNUAL\"\n",
        "numerical_columns = [\n",
        "    \"AGY\",\n",
        "    \"RATE\",\n",
        "    \"HRSWKD\",\n",
        "]\n",
        "categorical_columns = [\n",
        "    \"NAME\",\n",
        "    # \"MI\", # it's probably \"Middle initial\", so useless\n",
        "    \"JOBCLASS\",\n",
        "    \"JC.TITLE\",\n",
        "    \"RACE\",\n",
        "    \"SEX\",\n",
        "    \"EMPTYPE\",\n",
        "    \"HIREDT\",\n",
        "    \"STATENUM\",\n",
        "    \"multiple_full_time_jobs\",\n",
        "    \"combined_multiple_jobs\",\n",
        "]\n",
        "all_columns = numerical_columns + categorical_columns + [target_column]\n",
        "\n",
        "train_df = train_df[all_columns]\n",
        "\n",
        "# Selection of columns for data and target\n",
        "data = train_df.drop(columns=[target_column, ])\n",
        "target = train_df[target_column]\n",
        "\n",
        "\n",
        "# Dealing with missing values for data\n",
        "#data[numerical_columns] = data[numerical_columns].fillna(data[numerical_columns].median()) # replace NaNs with column medians\n",
        "\n",
        "from sklearn.impute import SimpleImputer\n",
        "imp = SimpleImputer(strategy=\"constant\", fill_value=False)\n",
        "data[[\"multiple_full_time_jobs\", \"combined_multiple_jobs\"]] = imp.fit_transform(data[[\"multiple_full_time_jobs\", \"combined_multiple_jobs\"]])\n",
        "data['multiple_full_time_jobs'] = data['multiple_full_time_jobs'].replace({True: 'Yes', False: 'No'})\n",
        "data['combined_multiple_jobs'] = data['combined_multiple_jobs'].replace({True: 'Yes', False: 'No'})"
      ]
    },
    {
      "cell_type": "markdown",
      "id": "c5807a4b-16e0-4e53-9097-a57840659edb",
      "metadata": {
        "id": "c5807a4b-16e0-4e53-9097-a57840659edb"
      },
      "source": [
        "# Creation of the pipeline with HistGradientBoostingRegressor"
      ]
    },
    {
      "cell_type": "code",
      "execution_count": null,
      "id": "42bc082c-9e63-4327-b7a9-0b1922f221ce",
      "metadata": {
        "tags": [],
        "id": "42bc082c-9e63-4327-b7a9-0b1922f221ce"
      },
      "outputs": [],
      "source": [
        "from sklearn.preprocessing import OrdinalEncoder\n",
        "from sklearn.compose import ColumnTransformer\n",
        "from sklearn.pipeline import make_pipeline\n",
        "from sklearn.ensemble import HistGradientBoostingRegressor\n",
        "from sklearn.model_selection import cross_validate, ShuffleSplit\n",
        "\n",
        "categorical_preprocessor = OrdinalEncoder(\n",
        "    handle_unknown=\"use_encoded_value\", unknown_value=-1\n",
        ")\n",
        "\n",
        "preprocessor = ColumnTransformer(\n",
        "    [(\"categorical\", categorical_preprocessor, categorical_columns)],\n",
        "    remainder=\"passthrough\",\n",
        ")\n",
        "\n",
        "model_hist = make_pipeline(preprocessor, HistGradientBoostingRegressor(max_iter=200, early_stopping=True, random_state=0))"
      ]
    },
    {
      "cell_type": "markdown",
      "id": "6181404b-60e2-40f1-80cc-c08c4c95e8d1",
      "metadata": {
        "id": "6181404b-60e2-40f1-80cc-c08c4c95e8d1"
      },
      "source": [
        "# 1) First approach: hyperparameter tuning by randomized-search"
      ]
    },
    {
      "cell_type": "markdown",
      "id": "5425fd50-197d-4e61-a1a7-4d010e6fcde8",
      "metadata": {
        "id": "5425fd50-197d-4e61-a1a7-4d010e6fcde8"
      },
      "source": [
        "## 1.a) Inner cross-validation to optimize the hyperparameters"
      ]
    },
    {
      "cell_type": "code",
      "execution_count": null,
      "id": "852967bc-1da5-4cbd-a351-e8c55a0f9065",
      "metadata": {
        "tags": [],
        "id": "852967bc-1da5-4cbd-a351-e8c55a0f9065"
      },
      "outputs": [],
      "source": [
        "from scipy.stats import loguniform\n",
        "from sklearn.model_selection import RandomizedSearchCV\n",
        "\n",
        "param_distributions = {\n",
        "    #\"n_estimators\": [1, 2, 5, 10, 20, 50, 100, 200, 500],\n",
        "    \"histgradientboostingregressor__max_leaf_nodes\": [2, 5, 10, 20, 50, 100],\n",
        "    \"histgradientboostingregressor__learning_rate\": loguniform(0.01, 1),\n",
        "}\n",
        "random_search_cv = RandomizedSearchCV(\n",
        "    model_hist, # HistGradientBoostingRegressor(early_stopping=True),\n",
        "    param_distributions=param_distributions,\n",
        "    scoring=\"neg_mean_absolute_error\",\n",
        "    n_iter=10,\n",
        "    random_state=0,\n",
        "    n_jobs=2,\n",
        ")"
      ]
    },
    {
      "cell_type": "code",
      "execution_count": null,
      "id": "b36654b8-fb54-4931-8823-2fa8c19f4eeb",
      "metadata": {
        "tags": [],
        "id": "b36654b8-fb54-4931-8823-2fa8c19f4eeb",
        "outputId": "34e4bd07-b4f6-4ac7-90dc-a30ed6989015"
      },
      "outputs": [
        {
          "data": {
            "text/html": [
              "<style>#sk-container-id-1 {color: black;background-color: white;}#sk-container-id-1 pre{padding: 0;}#sk-container-id-1 div.sk-toggleable {background-color: white;}#sk-container-id-1 label.sk-toggleable__label {cursor: pointer;display: block;width: 100%;margin-bottom: 0;padding: 0.3em;box-sizing: border-box;text-align: center;}#sk-container-id-1 label.sk-toggleable__label-arrow:before {content: \"▸\";float: left;margin-right: 0.25em;color: #696969;}#sk-container-id-1 label.sk-toggleable__label-arrow:hover:before {color: black;}#sk-container-id-1 div.sk-estimator:hover label.sk-toggleable__label-arrow:before {color: black;}#sk-container-id-1 div.sk-toggleable__content {max-height: 0;max-width: 0;overflow: hidden;text-align: left;background-color: #f0f8ff;}#sk-container-id-1 div.sk-toggleable__content pre {margin: 0.2em;color: black;border-radius: 0.25em;background-color: #f0f8ff;}#sk-container-id-1 input.sk-toggleable__control:checked~div.sk-toggleable__content {max-height: 200px;max-width: 100%;overflow: auto;}#sk-container-id-1 input.sk-toggleable__control:checked~label.sk-toggleable__label-arrow:before {content: \"▾\";}#sk-container-id-1 div.sk-estimator input.sk-toggleable__control:checked~label.sk-toggleable__label {background-color: #d4ebff;}#sk-container-id-1 div.sk-label input.sk-toggleable__control:checked~label.sk-toggleable__label {background-color: #d4ebff;}#sk-container-id-1 input.sk-hidden--visually {border: 0;clip: rect(1px 1px 1px 1px);clip: rect(1px, 1px, 1px, 1px);height: 1px;margin: -1px;overflow: hidden;padding: 0;position: absolute;width: 1px;}#sk-container-id-1 div.sk-estimator {font-family: monospace;background-color: #f0f8ff;border: 1px dotted black;border-radius: 0.25em;box-sizing: border-box;margin-bottom: 0.5em;}#sk-container-id-1 div.sk-estimator:hover {background-color: #d4ebff;}#sk-container-id-1 div.sk-parallel-item::after {content: \"\";width: 100%;border-bottom: 1px solid gray;flex-grow: 1;}#sk-container-id-1 div.sk-label:hover label.sk-toggleable__label {background-color: #d4ebff;}#sk-container-id-1 div.sk-serial::before {content: \"\";position: absolute;border-left: 1px solid gray;box-sizing: border-box;top: 0;bottom: 0;left: 50%;z-index: 0;}#sk-container-id-1 div.sk-serial {display: flex;flex-direction: column;align-items: center;background-color: white;padding-right: 0.2em;padding-left: 0.2em;position: relative;}#sk-container-id-1 div.sk-item {position: relative;z-index: 1;}#sk-container-id-1 div.sk-parallel {display: flex;align-items: stretch;justify-content: center;background-color: white;position: relative;}#sk-container-id-1 div.sk-item::before, #sk-container-id-1 div.sk-parallel-item::before {content: \"\";position: absolute;border-left: 1px solid gray;box-sizing: border-box;top: 0;bottom: 0;left: 50%;z-index: -1;}#sk-container-id-1 div.sk-parallel-item {display: flex;flex-direction: column;z-index: 1;position: relative;background-color: white;}#sk-container-id-1 div.sk-parallel-item:first-child::after {align-self: flex-end;width: 50%;}#sk-container-id-1 div.sk-parallel-item:last-child::after {align-self: flex-start;width: 50%;}#sk-container-id-1 div.sk-parallel-item:only-child::after {width: 0;}#sk-container-id-1 div.sk-dashed-wrapped {border: 1px dashed gray;margin: 0 0.4em 0.5em 0.4em;box-sizing: border-box;padding-bottom: 0.4em;background-color: white;}#sk-container-id-1 div.sk-label label {font-family: monospace;font-weight: bold;display: inline-block;line-height: 1.2em;}#sk-container-id-1 div.sk-label-container {text-align: center;}#sk-container-id-1 div.sk-container {/* jupyter's `normalize.less` sets `[hidden] { display: none; }` but bootstrap.min.css set `[hidden] { display: none !important; }` so we also need the `!important` here to be able to override the default hidden behavior on the sphinx rendered scikit-learn.org. See: https://github.com/scikit-learn/scikit-learn/issues/21755 */display: inline-block !important;position: relative;}#sk-container-id-1 div.sk-text-repr-fallback {display: none;}</style><div id=\"sk-container-id-1\" class=\"sk-top-container\"><div class=\"sk-text-repr-fallback\"><pre>RandomizedSearchCV(estimator=Pipeline(steps=[(&#x27;columntransformer&#x27;,\n",
              "                                              ColumnTransformer(remainder=&#x27;passthrough&#x27;,\n",
              "                                                                transformers=[(&#x27;categorical&#x27;,\n",
              "                                                                               OrdinalEncoder(handle_unknown=&#x27;use_encoded_value&#x27;,\n",
              "                                                                                              unknown_value=-1),\n",
              "                                                                               [&#x27;NAME&#x27;,\n",
              "                                                                                &#x27;JOBCLASS&#x27;,\n",
              "                                                                                &#x27;JC.TITLE&#x27;,\n",
              "                                                                                &#x27;RACE&#x27;,\n",
              "                                                                                &#x27;SEX&#x27;,\n",
              "                                                                                &#x27;EMPTYPE&#x27;,\n",
              "                                                                                &#x27;HIREDT&#x27;,\n",
              "                                                                                &#x27;STATENUM&#x27;,\n",
              "                                                                                &#x27;multiple_full_time_jobs&#x27;,\n",
              "                                                                                &#x27;combined_multiple_jobs&#x27;])])),\n",
              "                                             (&#x27;histgradientbo...\n",
              "                                              HistGradientBoostingRegressor(early_stopping=True,\n",
              "                                                                            max_iter=200,\n",
              "                                                                            random_state=0))]),\n",
              "                   n_jobs=2,\n",
              "                   param_distributions={&#x27;histgradientboostingregressor__learning_rate&#x27;: &lt;scipy.stats._distn_infrastructure.rv_continuous_frozen object at 0x0000018222595430&gt;,\n",
              "                                        &#x27;histgradientboostingregressor__max_leaf_nodes&#x27;: [2,\n",
              "                                                                                          5,\n",
              "                                                                                          10,\n",
              "                                                                                          20,\n",
              "                                                                                          50,\n",
              "                                                                                          100]},\n",
              "                   random_state=0, scoring=&#x27;neg_mean_absolute_error&#x27;)</pre><b>In a Jupyter environment, please rerun this cell to show the HTML representation or trust the notebook. <br />On GitHub, the HTML representation is unable to render, please try loading this page with nbviewer.org.</b></div><div class=\"sk-container\" hidden><div class=\"sk-item sk-dashed-wrapped\"><div class=\"sk-label-container\"><div class=\"sk-label sk-toggleable\"><input class=\"sk-toggleable__control sk-hidden--visually\" id=\"sk-estimator-id-1\" type=\"checkbox\" ><label for=\"sk-estimator-id-1\" class=\"sk-toggleable__label sk-toggleable__label-arrow\">RandomizedSearchCV</label><div class=\"sk-toggleable__content\"><pre>RandomizedSearchCV(estimator=Pipeline(steps=[(&#x27;columntransformer&#x27;,\n",
              "                                              ColumnTransformer(remainder=&#x27;passthrough&#x27;,\n",
              "                                                                transformers=[(&#x27;categorical&#x27;,\n",
              "                                                                               OrdinalEncoder(handle_unknown=&#x27;use_encoded_value&#x27;,\n",
              "                                                                                              unknown_value=-1),\n",
              "                                                                               [&#x27;NAME&#x27;,\n",
              "                                                                                &#x27;JOBCLASS&#x27;,\n",
              "                                                                                &#x27;JC.TITLE&#x27;,\n",
              "                                                                                &#x27;RACE&#x27;,\n",
              "                                                                                &#x27;SEX&#x27;,\n",
              "                                                                                &#x27;EMPTYPE&#x27;,\n",
              "                                                                                &#x27;HIREDT&#x27;,\n",
              "                                                                                &#x27;STATENUM&#x27;,\n",
              "                                                                                &#x27;multiple_full_time_jobs&#x27;,\n",
              "                                                                                &#x27;combined_multiple_jobs&#x27;])])),\n",
              "                                             (&#x27;histgradientbo...\n",
              "                                              HistGradientBoostingRegressor(early_stopping=True,\n",
              "                                                                            max_iter=200,\n",
              "                                                                            random_state=0))]),\n",
              "                   n_jobs=2,\n",
              "                   param_distributions={&#x27;histgradientboostingregressor__learning_rate&#x27;: &lt;scipy.stats._distn_infrastructure.rv_continuous_frozen object at 0x0000018222595430&gt;,\n",
              "                                        &#x27;histgradientboostingregressor__max_leaf_nodes&#x27;: [2,\n",
              "                                                                                          5,\n",
              "                                                                                          10,\n",
              "                                                                                          20,\n",
              "                                                                                          50,\n",
              "                                                                                          100]},\n",
              "                   random_state=0, scoring=&#x27;neg_mean_absolute_error&#x27;)</pre></div></div></div><div class=\"sk-parallel\"><div class=\"sk-parallel-item\"><div class=\"sk-item\"><div class=\"sk-label-container\"><div class=\"sk-label sk-toggleable\"><input class=\"sk-toggleable__control sk-hidden--visually\" id=\"sk-estimator-id-2\" type=\"checkbox\" ><label for=\"sk-estimator-id-2\" class=\"sk-toggleable__label sk-toggleable__label-arrow\">estimator: Pipeline</label><div class=\"sk-toggleable__content\"><pre>Pipeline(steps=[(&#x27;columntransformer&#x27;,\n",
              "                 ColumnTransformer(remainder=&#x27;passthrough&#x27;,\n",
              "                                   transformers=[(&#x27;categorical&#x27;,\n",
              "                                                  OrdinalEncoder(handle_unknown=&#x27;use_encoded_value&#x27;,\n",
              "                                                                 unknown_value=-1),\n",
              "                                                  [&#x27;NAME&#x27;, &#x27;JOBCLASS&#x27;,\n",
              "                                                   &#x27;JC.TITLE&#x27;, &#x27;RACE&#x27;, &#x27;SEX&#x27;,\n",
              "                                                   &#x27;EMPTYPE&#x27;, &#x27;HIREDT&#x27;,\n",
              "                                                   &#x27;STATENUM&#x27;,\n",
              "                                                   &#x27;multiple_full_time_jobs&#x27;,\n",
              "                                                   &#x27;combined_multiple_jobs&#x27;])])),\n",
              "                (&#x27;histgradientboostingregressor&#x27;,\n",
              "                 HistGradientBoostingRegressor(early_stopping=True,\n",
              "                                               max_iter=200, random_state=0))])</pre></div></div></div><div class=\"sk-serial\"><div class=\"sk-item\"><div class=\"sk-serial\"><div class=\"sk-item sk-dashed-wrapped\"><div class=\"sk-label-container\"><div class=\"sk-label sk-toggleable\"><input class=\"sk-toggleable__control sk-hidden--visually\" id=\"sk-estimator-id-3\" type=\"checkbox\" ><label for=\"sk-estimator-id-3\" class=\"sk-toggleable__label sk-toggleable__label-arrow\">columntransformer: ColumnTransformer</label><div class=\"sk-toggleable__content\"><pre>ColumnTransformer(remainder=&#x27;passthrough&#x27;,\n",
              "                  transformers=[(&#x27;categorical&#x27;,\n",
              "                                 OrdinalEncoder(handle_unknown=&#x27;use_encoded_value&#x27;,\n",
              "                                                unknown_value=-1),\n",
              "                                 [&#x27;NAME&#x27;, &#x27;JOBCLASS&#x27;, &#x27;JC.TITLE&#x27;, &#x27;RACE&#x27;, &#x27;SEX&#x27;,\n",
              "                                  &#x27;EMPTYPE&#x27;, &#x27;HIREDT&#x27;, &#x27;STATENUM&#x27;,\n",
              "                                  &#x27;multiple_full_time_jobs&#x27;,\n",
              "                                  &#x27;combined_multiple_jobs&#x27;])])</pre></div></div></div><div class=\"sk-parallel\"><div class=\"sk-parallel-item\"><div class=\"sk-item\"><div class=\"sk-label-container\"><div class=\"sk-label sk-toggleable\"><input class=\"sk-toggleable__control sk-hidden--visually\" id=\"sk-estimator-id-4\" type=\"checkbox\" ><label for=\"sk-estimator-id-4\" class=\"sk-toggleable__label sk-toggleable__label-arrow\">categorical</label><div class=\"sk-toggleable__content\"><pre>[&#x27;NAME&#x27;, &#x27;JOBCLASS&#x27;, &#x27;JC.TITLE&#x27;, &#x27;RACE&#x27;, &#x27;SEX&#x27;, &#x27;EMPTYPE&#x27;, &#x27;HIREDT&#x27;, &#x27;STATENUM&#x27;, &#x27;multiple_full_time_jobs&#x27;, &#x27;combined_multiple_jobs&#x27;]</pre></div></div></div><div class=\"sk-serial\"><div class=\"sk-item\"><div class=\"sk-estimator sk-toggleable\"><input class=\"sk-toggleable__control sk-hidden--visually\" id=\"sk-estimator-id-5\" type=\"checkbox\" ><label for=\"sk-estimator-id-5\" class=\"sk-toggleable__label sk-toggleable__label-arrow\">OrdinalEncoder</label><div class=\"sk-toggleable__content\"><pre>OrdinalEncoder(handle_unknown=&#x27;use_encoded_value&#x27;, unknown_value=-1)</pre></div></div></div></div></div></div><div class=\"sk-parallel-item\"><div class=\"sk-item\"><div class=\"sk-label-container\"><div class=\"sk-label sk-toggleable\"><input class=\"sk-toggleable__control sk-hidden--visually\" id=\"sk-estimator-id-6\" type=\"checkbox\" ><label for=\"sk-estimator-id-6\" class=\"sk-toggleable__label sk-toggleable__label-arrow\">remainder</label><div class=\"sk-toggleable__content\"><pre></pre></div></div></div><div class=\"sk-serial\"><div class=\"sk-item\"><div class=\"sk-estimator sk-toggleable\"><input class=\"sk-toggleable__control sk-hidden--visually\" id=\"sk-estimator-id-7\" type=\"checkbox\" ><label for=\"sk-estimator-id-7\" class=\"sk-toggleable__label sk-toggleable__label-arrow\">passthrough</label><div class=\"sk-toggleable__content\"><pre>passthrough</pre></div></div></div></div></div></div></div></div><div class=\"sk-item\"><div class=\"sk-estimator sk-toggleable\"><input class=\"sk-toggleable__control sk-hidden--visually\" id=\"sk-estimator-id-8\" type=\"checkbox\" ><label for=\"sk-estimator-id-8\" class=\"sk-toggleable__label sk-toggleable__label-arrow\">HistGradientBoostingRegressor</label><div class=\"sk-toggleable__content\"><pre>HistGradientBoostingRegressor(early_stopping=True, max_iter=200, random_state=0)</pre></div></div></div></div></div></div></div></div></div></div></div></div>"
            ],
            "text/plain": [
              "RandomizedSearchCV(estimator=Pipeline(steps=[('columntransformer',\n",
              "                                              ColumnTransformer(remainder='passthrough',\n",
              "                                                                transformers=[('categorical',\n",
              "                                                                               OrdinalEncoder(handle_unknown='use_encoded_value',\n",
              "                                                                                              unknown_value=-1),\n",
              "                                                                               ['NAME',\n",
              "                                                                                'JOBCLASS',\n",
              "                                                                                'JC.TITLE',\n",
              "                                                                                'RACE',\n",
              "                                                                                'SEX',\n",
              "                                                                                'EMPTYPE',\n",
              "                                                                                'HIREDT',\n",
              "                                                                                'STATENUM',\n",
              "                                                                                'multiple_full_time_jobs',\n",
              "                                                                                'combined_multiple_jobs'])])),\n",
              "                                             ('histgradientbo...\n",
              "                                              HistGradientBoostingRegressor(early_stopping=True,\n",
              "                                                                            max_iter=200,\n",
              "                                                                            random_state=0))]),\n",
              "                   n_jobs=2,\n",
              "                   param_distributions={'histgradientboostingregressor__learning_rate': <scipy.stats._distn_infrastructure.rv_continuous_frozen object at 0x0000018222595430>,\n",
              "                                        'histgradientboostingregressor__max_leaf_nodes': [2,\n",
              "                                                                                          5,\n",
              "                                                                                          10,\n",
              "                                                                                          20,\n",
              "                                                                                          50,\n",
              "                                                                                          100]},\n",
              "                   random_state=0, scoring='neg_mean_absolute_error')"
            ]
          },
          "execution_count": 4,
          "metadata": {},
          "output_type": "execute_result"
        }
      ],
      "source": [
        "random_search_cv.fit(data, target)"
      ]
    },
    {
      "cell_type": "markdown",
      "id": "75a04e6f-f888-43a8-b5c3-5351f2808acf",
      "metadata": {
        "id": "75a04e6f-f888-43a8-b5c3-5351f2808acf"
      },
      "source": [
        "## 1.b) Outer cross-validation to estimate the testing error of the tuned model"
      ]
    },
    {
      "cell_type": "code",
      "execution_count": null,
      "id": "8bff173e-41d2-47d7-a227-92dfc0c42170",
      "metadata": {
        "tags": [],
        "id": "8bff173e-41d2-47d7-a227-92dfc0c42170"
      },
      "outputs": [],
      "source": [
        "from sklearn.model_selection import cross_validate\n",
        "from sklearn.model_selection import ShuffleSplit\n",
        "\n",
        "cv = ShuffleSplit(n_splits=3, test_size=0.3, random_state=0)\n",
        "cv_results = cross_validate(\n",
        "    random_search_cv, data, target, cv=cv, scoring=\"neg_mean_absolute_error\"\n",
        ")"
      ]
    },
    {
      "cell_type": "code",
      "execution_count": null,
      "id": "d2babe82-1cec-4a38-8b78-c0ad587077d4",
      "metadata": {
        "tags": [],
        "id": "d2babe82-1cec-4a38-8b78-c0ad587077d4",
        "outputId": "72c64b0b-5da6-4c6a-ebcc-9a610ede9059"
      },
      "outputs": [
        {
          "data": {
            "text/html": [
              "<div>\n",
              "<style scoped>\n",
              "    .dataframe tbody tr th:only-of-type {\n",
              "        vertical-align: middle;\n",
              "    }\n",
              "\n",
              "    .dataframe tbody tr th {\n",
              "        vertical-align: top;\n",
              "    }\n",
              "\n",
              "    .dataframe thead th {\n",
              "        text-align: right;\n",
              "    }\n",
              "</style>\n",
              "<table border=\"1\" class=\"dataframe\">\n",
              "  <thead>\n",
              "    <tr style=\"text-align: right;\">\n",
              "      <th></th>\n",
              "      <th>param_histgradientboostingregressor__learning_rate</th>\n",
              "      <th>param_histgradientboostingregressor__max_leaf_nodes</th>\n",
              "      <th>split0_test_score</th>\n",
              "      <th>split1_test_score</th>\n",
              "      <th>split2_test_score</th>\n",
              "      <th>split3_test_score</th>\n",
              "      <th>split4_test_score</th>\n",
              "      <th>mean_test_score</th>\n",
              "      <th>std_test_score</th>\n",
              "      <th>rank_test_score</th>\n",
              "    </tr>\n",
              "  </thead>\n",
              "  <tbody>\n",
              "    <tr>\n",
              "      <th>0</th>\n",
              "      <td>0.125207</td>\n",
              "      <td>100</td>\n",
              "      <td>-5585.899178</td>\n",
              "      <td>-5836.490810</td>\n",
              "      <td>-5508.703132</td>\n",
              "      <td>-5387.446605</td>\n",
              "      <td>-6075.499531</td>\n",
              "      <td>-5678.807851</td>\n",
              "      <td>246.855106</td>\n",
              "      <td>1</td>\n",
              "    </tr>\n",
              "    <tr>\n",
              "      <th>1</th>\n",
              "      <td>0.488126</td>\n",
              "      <td>20</td>\n",
              "      <td>-6220.483257</td>\n",
              "      <td>-6247.357607</td>\n",
              "      <td>-6017.178588</td>\n",
              "      <td>-5956.992854</td>\n",
              "      <td>-7271.047150</td>\n",
              "      <td>-6342.611891</td>\n",
              "      <td>477.616936</td>\n",
              "      <td>2</td>\n",
              "    </tr>\n",
              "    <tr>\n",
              "      <th>5</th>\n",
              "      <td>0.845913</td>\n",
              "      <td>10</td>\n",
              "      <td>-6595.150396</td>\n",
              "      <td>-6761.224711</td>\n",
              "      <td>-6216.957439</td>\n",
              "      <td>-6194.283025</td>\n",
              "      <td>-7352.216163</td>\n",
              "      <td>-6623.966347</td>\n",
              "      <td>424.335250</td>\n",
              "      <td>3</td>\n",
              "    </tr>\n",
              "    <tr>\n",
              "      <th>3</th>\n",
              "      <td>0.176656</td>\n",
              "      <td>10</td>\n",
              "      <td>-7153.734201</td>\n",
              "      <td>-7278.575966</td>\n",
              "      <td>-6948.523473</td>\n",
              "      <td>-7368.652840</td>\n",
              "      <td>-8673.453037</td>\n",
              "      <td>-7484.587903</td>\n",
              "      <td>610.919211</td>\n",
              "      <td>4</td>\n",
              "    </tr>\n",
              "    <tr>\n",
              "      <th>2</th>\n",
              "      <td>0.122961</td>\n",
              "      <td>5</td>\n",
              "      <td>-9125.635232</td>\n",
              "      <td>-9178.501564</td>\n",
              "      <td>-8794.810186</td>\n",
              "      <td>-9075.733937</td>\n",
              "      <td>-11196.976952</td>\n",
              "      <td>-9474.331574</td>\n",
              "      <td>871.463255</td>\n",
              "      <td>5</td>\n",
              "    </tr>\n",
              "  </tbody>\n",
              "</table>\n",
              "</div>"
            ],
            "text/plain": [
              "  param_histgradientboostingregressor__learning_rate  \\\n",
              "0                                           0.125207   \n",
              "1                                           0.488126   \n",
              "5                                           0.845913   \n",
              "3                                           0.176656   \n",
              "2                                           0.122961   \n",
              "\n",
              "  param_histgradientboostingregressor__max_leaf_nodes  split0_test_score  \\\n",
              "0                                                100        -5585.899178   \n",
              "1                                                 20        -6220.483257   \n",
              "5                                                 10        -6595.150396   \n",
              "3                                                 10        -7153.734201   \n",
              "2                                                  5        -9125.635232   \n",
              "\n",
              "   split1_test_score  split2_test_score  split3_test_score  split4_test_score  \\\n",
              "0       -5836.490810       -5508.703132       -5387.446605       -6075.499531   \n",
              "1       -6247.357607       -6017.178588       -5956.992854       -7271.047150   \n",
              "5       -6761.224711       -6216.957439       -6194.283025       -7352.216163   \n",
              "3       -7278.575966       -6948.523473       -7368.652840       -8673.453037   \n",
              "2       -9178.501564       -8794.810186       -9075.733937      -11196.976952   \n",
              "\n",
              "   mean_test_score  std_test_score  rank_test_score  \n",
              "0     -5678.807851      246.855106                1  \n",
              "1     -6342.611891      477.616936                2  \n",
              "5     -6623.966347      424.335250                3  \n",
              "3     -7484.587903      610.919211                4  \n",
              "2     -9474.331574      871.463255                5  "
            ]
          },
          "execution_count": 6,
          "metadata": {},
          "output_type": "execute_result"
        }
      ],
      "source": [
        "# To find the best values of the hyperparameters\n",
        "pd.DataFrame(random_search_cv.cv_results_).drop([\"mean_fit_time\", \"std_fit_time\", \"mean_score_time\", \"std_score_time\", \"params\"], axis=1).sort_values(\"mean_test_score\", ascending=False).head()"
      ]
    },
    {
      "cell_type": "code",
      "execution_count": null,
      "id": "77f27d87-69c3-4811-b159-7cc68b343af9",
      "metadata": {
        "tags": [],
        "id": "77f27d87-69c3-4811-b159-7cc68b343af9",
        "outputId": "40f26aac-d9d2-44cd-a5d4-9384114c4005"
      },
      "outputs": [
        {
          "data": {
            "text/html": [
              "<div>\n",
              "<style scoped>\n",
              "    .dataframe tbody tr th:only-of-type {\n",
              "        vertical-align: middle;\n",
              "    }\n",
              "\n",
              "    .dataframe tbody tr th {\n",
              "        vertical-align: top;\n",
              "    }\n",
              "\n",
              "    .dataframe thead th {\n",
              "        text-align: right;\n",
              "    }\n",
              "</style>\n",
              "<table border=\"1\" class=\"dataframe\">\n",
              "  <thead>\n",
              "    <tr style=\"text-align: right;\">\n",
              "      <th></th>\n",
              "      <th>fit_time</th>\n",
              "      <th>score_time</th>\n",
              "      <th>test_score</th>\n",
              "      <th>test_error</th>\n",
              "    </tr>\n",
              "  </thead>\n",
              "  <tbody>\n",
              "    <tr>\n",
              "      <th>0</th>\n",
              "      <td>51.964484</td>\n",
              "      <td>0.369088</td>\n",
              "      <td>-5731.839358</td>\n",
              "      <td>5731.839358</td>\n",
              "    </tr>\n",
              "    <tr>\n",
              "      <th>1</th>\n",
              "      <td>54.088883</td>\n",
              "      <td>0.249616</td>\n",
              "      <td>-5948.742265</td>\n",
              "      <td>5948.742265</td>\n",
              "    </tr>\n",
              "    <tr>\n",
              "      <th>2</th>\n",
              "      <td>46.239920</td>\n",
              "      <td>0.290968</td>\n",
              "      <td>-5856.015095</td>\n",
              "      <td>5856.015095</td>\n",
              "    </tr>\n",
              "  </tbody>\n",
              "</table>\n",
              "</div>"
            ],
            "text/plain": [
              "    fit_time  score_time   test_score   test_error\n",
              "0  51.964484    0.369088 -5731.839358  5731.839358\n",
              "1  54.088883    0.249616 -5948.742265  5948.742265\n",
              "2  46.239920    0.290968 -5856.015095  5856.015095"
            ]
          },
          "execution_count": 7,
          "metadata": {},
          "output_type": "execute_result"
        }
      ],
      "source": [
        "cv_results = pd.DataFrame(cv_results)\n",
        "cv_results[\"test_error\"] = -cv_results[\"test_score\"]\n",
        "cv_results.head(5)"
      ]
    },
    {
      "cell_type": "code",
      "execution_count": null,
      "id": "a77fb542-77d1-4e27-8f82-928ed279190c",
      "metadata": {
        "tags": [],
        "id": "a77fb542-77d1-4e27-8f82-928ed279190c",
        "outputId": "cf617f11-802d-4b1c-ebed-ac3ae32500c9"
      },
      "outputs": [
        {
          "name": "stdout",
          "output_type": "stream",
          "text": [
            "The mean cross-validated testing error is: 5845.53 k$\n",
            "The standard deviation of the testing error is: 108.83 k$\n"
          ]
        }
      ],
      "source": [
        "print(\n",
        "    \"The mean cross-validated testing error is: \"\n",
        "    f\"{cv_results['test_error'].mean():.2f} k$\"\n",
        ")\n",
        "print(\n",
        "    \"The standard deviation of the testing error is: \"\n",
        "    f\"{cv_results['test_error'].std():.2f} k$\"\n",
        ")"
      ]
    },
    {
      "cell_type": "markdown",
      "id": "4d7c5c0e-8dc3-4dec-a590-62e182ebf83d",
      "metadata": {
        "id": "4d7c5c0e-8dc3-4dec-a590-62e182ebf83d"
      },
      "source": [
        "# 2) Second approach: hyperparameter tuning by grid-search"
      ]
    },
    {
      "cell_type": "markdown",
      "id": "83bea43f-b065-4ea8-8e5e-97bc1df1e066",
      "metadata": {
        "id": "83bea43f-b065-4ea8-8e5e-97bc1df1e066"
      },
      "source": [
        "## 2.a) Inner cross-validation to optimize the hyperparameters"
      ]
    },
    {
      "cell_type": "code",
      "execution_count": null,
      "id": "b632dc03-84fe-4091-b0bb-c59f930cb84b",
      "metadata": {
        "tags": [],
        "id": "b632dc03-84fe-4091-b0bb-c59f930cb84b"
      },
      "outputs": [],
      "source": [
        "from sklearn.model_selection import GridSearchCV\n",
        "\n",
        "params = {\n",
        "    \"histgradientboostingregressor__max_depth\": [3, 8],\n",
        "    \"histgradientboostingregressor__max_leaf_nodes\": [15, 31],\n",
        "    \"histgradientboostingregressor__learning_rate\": [0.1, 1],\n",
        "}\n",
        "\n",
        "grid_search_cv = GridSearchCV(model_hist, params)"
      ]
    },
    {
      "cell_type": "code",
      "execution_count": null,
      "id": "ac0ce756-ecf8-4574-a738-ed60d3d5f53d",
      "metadata": {
        "tags": [],
        "id": "ac0ce756-ecf8-4574-a738-ed60d3d5f53d",
        "outputId": "678a52eb-62d4-4977-886e-6cf5922b5d4b"
      },
      "outputs": [
        {
          "data": {
            "text/html": [
              "<style>#sk-container-id-2 {color: black;background-color: white;}#sk-container-id-2 pre{padding: 0;}#sk-container-id-2 div.sk-toggleable {background-color: white;}#sk-container-id-2 label.sk-toggleable__label {cursor: pointer;display: block;width: 100%;margin-bottom: 0;padding: 0.3em;box-sizing: border-box;text-align: center;}#sk-container-id-2 label.sk-toggleable__label-arrow:before {content: \"▸\";float: left;margin-right: 0.25em;color: #696969;}#sk-container-id-2 label.sk-toggleable__label-arrow:hover:before {color: black;}#sk-container-id-2 div.sk-estimator:hover label.sk-toggleable__label-arrow:before {color: black;}#sk-container-id-2 div.sk-toggleable__content {max-height: 0;max-width: 0;overflow: hidden;text-align: left;background-color: #f0f8ff;}#sk-container-id-2 div.sk-toggleable__content pre {margin: 0.2em;color: black;border-radius: 0.25em;background-color: #f0f8ff;}#sk-container-id-2 input.sk-toggleable__control:checked~div.sk-toggleable__content {max-height: 200px;max-width: 100%;overflow: auto;}#sk-container-id-2 input.sk-toggleable__control:checked~label.sk-toggleable__label-arrow:before {content: \"▾\";}#sk-container-id-2 div.sk-estimator input.sk-toggleable__control:checked~label.sk-toggleable__label {background-color: #d4ebff;}#sk-container-id-2 div.sk-label input.sk-toggleable__control:checked~label.sk-toggleable__label {background-color: #d4ebff;}#sk-container-id-2 input.sk-hidden--visually {border: 0;clip: rect(1px 1px 1px 1px);clip: rect(1px, 1px, 1px, 1px);height: 1px;margin: -1px;overflow: hidden;padding: 0;position: absolute;width: 1px;}#sk-container-id-2 div.sk-estimator {font-family: monospace;background-color: #f0f8ff;border: 1px dotted black;border-radius: 0.25em;box-sizing: border-box;margin-bottom: 0.5em;}#sk-container-id-2 div.sk-estimator:hover {background-color: #d4ebff;}#sk-container-id-2 div.sk-parallel-item::after {content: \"\";width: 100%;border-bottom: 1px solid gray;flex-grow: 1;}#sk-container-id-2 div.sk-label:hover label.sk-toggleable__label {background-color: #d4ebff;}#sk-container-id-2 div.sk-serial::before {content: \"\";position: absolute;border-left: 1px solid gray;box-sizing: border-box;top: 0;bottom: 0;left: 50%;z-index: 0;}#sk-container-id-2 div.sk-serial {display: flex;flex-direction: column;align-items: center;background-color: white;padding-right: 0.2em;padding-left: 0.2em;position: relative;}#sk-container-id-2 div.sk-item {position: relative;z-index: 1;}#sk-container-id-2 div.sk-parallel {display: flex;align-items: stretch;justify-content: center;background-color: white;position: relative;}#sk-container-id-2 div.sk-item::before, #sk-container-id-2 div.sk-parallel-item::before {content: \"\";position: absolute;border-left: 1px solid gray;box-sizing: border-box;top: 0;bottom: 0;left: 50%;z-index: -1;}#sk-container-id-2 div.sk-parallel-item {display: flex;flex-direction: column;z-index: 1;position: relative;background-color: white;}#sk-container-id-2 div.sk-parallel-item:first-child::after {align-self: flex-end;width: 50%;}#sk-container-id-2 div.sk-parallel-item:last-child::after {align-self: flex-start;width: 50%;}#sk-container-id-2 div.sk-parallel-item:only-child::after {width: 0;}#sk-container-id-2 div.sk-dashed-wrapped {border: 1px dashed gray;margin: 0 0.4em 0.5em 0.4em;box-sizing: border-box;padding-bottom: 0.4em;background-color: white;}#sk-container-id-2 div.sk-label label {font-family: monospace;font-weight: bold;display: inline-block;line-height: 1.2em;}#sk-container-id-2 div.sk-label-container {text-align: center;}#sk-container-id-2 div.sk-container {/* jupyter's `normalize.less` sets `[hidden] { display: none; }` but bootstrap.min.css set `[hidden] { display: none !important; }` so we also need the `!important` here to be able to override the default hidden behavior on the sphinx rendered scikit-learn.org. See: https://github.com/scikit-learn/scikit-learn/issues/21755 */display: inline-block !important;position: relative;}#sk-container-id-2 div.sk-text-repr-fallback {display: none;}</style><div id=\"sk-container-id-2\" class=\"sk-top-container\"><div class=\"sk-text-repr-fallback\"><pre>GridSearchCV(estimator=Pipeline(steps=[(&#x27;columntransformer&#x27;,\n",
              "                                        ColumnTransformer(remainder=&#x27;passthrough&#x27;,\n",
              "                                                          transformers=[(&#x27;categorical&#x27;,\n",
              "                                                                         OrdinalEncoder(handle_unknown=&#x27;use_encoded_value&#x27;,\n",
              "                                                                                        unknown_value=-1),\n",
              "                                                                         [&#x27;NAME&#x27;,\n",
              "                                                                          &#x27;JOBCLASS&#x27;,\n",
              "                                                                          &#x27;JC.TITLE&#x27;,\n",
              "                                                                          &#x27;RACE&#x27;,\n",
              "                                                                          &#x27;SEX&#x27;,\n",
              "                                                                          &#x27;EMPTYPE&#x27;,\n",
              "                                                                          &#x27;HIREDT&#x27;,\n",
              "                                                                          &#x27;STATENUM&#x27;,\n",
              "                                                                          &#x27;multiple_full_time_jobs&#x27;,\n",
              "                                                                          &#x27;combined_multiple_jobs&#x27;])])),\n",
              "                                       (&#x27;histgradientboostingregressor&#x27;,\n",
              "                                        HistGradientBoostingRegressor(early_stopping=True,\n",
              "                                                                      max_iter=200,\n",
              "                                                                      random_state=0))]),\n",
              "             param_grid={&#x27;histgradientboostingregressor__learning_rate&#x27;: [0.1,\n",
              "                                                                          1],\n",
              "                         &#x27;histgradientboostingregressor__max_depth&#x27;: [3, 8],\n",
              "                         &#x27;histgradientboostingregressor__max_leaf_nodes&#x27;: [15,\n",
              "                                                                           31]})</pre><b>In a Jupyter environment, please rerun this cell to show the HTML representation or trust the notebook. <br />On GitHub, the HTML representation is unable to render, please try loading this page with nbviewer.org.</b></div><div class=\"sk-container\" hidden><div class=\"sk-item sk-dashed-wrapped\"><div class=\"sk-label-container\"><div class=\"sk-label sk-toggleable\"><input class=\"sk-toggleable__control sk-hidden--visually\" id=\"sk-estimator-id-9\" type=\"checkbox\" ><label for=\"sk-estimator-id-9\" class=\"sk-toggleable__label sk-toggleable__label-arrow\">GridSearchCV</label><div class=\"sk-toggleable__content\"><pre>GridSearchCV(estimator=Pipeline(steps=[(&#x27;columntransformer&#x27;,\n",
              "                                        ColumnTransformer(remainder=&#x27;passthrough&#x27;,\n",
              "                                                          transformers=[(&#x27;categorical&#x27;,\n",
              "                                                                         OrdinalEncoder(handle_unknown=&#x27;use_encoded_value&#x27;,\n",
              "                                                                                        unknown_value=-1),\n",
              "                                                                         [&#x27;NAME&#x27;,\n",
              "                                                                          &#x27;JOBCLASS&#x27;,\n",
              "                                                                          &#x27;JC.TITLE&#x27;,\n",
              "                                                                          &#x27;RACE&#x27;,\n",
              "                                                                          &#x27;SEX&#x27;,\n",
              "                                                                          &#x27;EMPTYPE&#x27;,\n",
              "                                                                          &#x27;HIREDT&#x27;,\n",
              "                                                                          &#x27;STATENUM&#x27;,\n",
              "                                                                          &#x27;multiple_full_time_jobs&#x27;,\n",
              "                                                                          &#x27;combined_multiple_jobs&#x27;])])),\n",
              "                                       (&#x27;histgradientboostingregressor&#x27;,\n",
              "                                        HistGradientBoostingRegressor(early_stopping=True,\n",
              "                                                                      max_iter=200,\n",
              "                                                                      random_state=0))]),\n",
              "             param_grid={&#x27;histgradientboostingregressor__learning_rate&#x27;: [0.1,\n",
              "                                                                          1],\n",
              "                         &#x27;histgradientboostingregressor__max_depth&#x27;: [3, 8],\n",
              "                         &#x27;histgradientboostingregressor__max_leaf_nodes&#x27;: [15,\n",
              "                                                                           31]})</pre></div></div></div><div class=\"sk-parallel\"><div class=\"sk-parallel-item\"><div class=\"sk-item\"><div class=\"sk-label-container\"><div class=\"sk-label sk-toggleable\"><input class=\"sk-toggleable__control sk-hidden--visually\" id=\"sk-estimator-id-10\" type=\"checkbox\" ><label for=\"sk-estimator-id-10\" class=\"sk-toggleable__label sk-toggleable__label-arrow\">estimator: Pipeline</label><div class=\"sk-toggleable__content\"><pre>Pipeline(steps=[(&#x27;columntransformer&#x27;,\n",
              "                 ColumnTransformer(remainder=&#x27;passthrough&#x27;,\n",
              "                                   transformers=[(&#x27;categorical&#x27;,\n",
              "                                                  OrdinalEncoder(handle_unknown=&#x27;use_encoded_value&#x27;,\n",
              "                                                                 unknown_value=-1),\n",
              "                                                  [&#x27;NAME&#x27;, &#x27;JOBCLASS&#x27;,\n",
              "                                                   &#x27;JC.TITLE&#x27;, &#x27;RACE&#x27;, &#x27;SEX&#x27;,\n",
              "                                                   &#x27;EMPTYPE&#x27;, &#x27;HIREDT&#x27;,\n",
              "                                                   &#x27;STATENUM&#x27;,\n",
              "                                                   &#x27;multiple_full_time_jobs&#x27;,\n",
              "                                                   &#x27;combined_multiple_jobs&#x27;])])),\n",
              "                (&#x27;histgradientboostingregressor&#x27;,\n",
              "                 HistGradientBoostingRegressor(early_stopping=True,\n",
              "                                               max_iter=200, random_state=0))])</pre></div></div></div><div class=\"sk-serial\"><div class=\"sk-item\"><div class=\"sk-serial\"><div class=\"sk-item sk-dashed-wrapped\"><div class=\"sk-label-container\"><div class=\"sk-label sk-toggleable\"><input class=\"sk-toggleable__control sk-hidden--visually\" id=\"sk-estimator-id-11\" type=\"checkbox\" ><label for=\"sk-estimator-id-11\" class=\"sk-toggleable__label sk-toggleable__label-arrow\">columntransformer: ColumnTransformer</label><div class=\"sk-toggleable__content\"><pre>ColumnTransformer(remainder=&#x27;passthrough&#x27;,\n",
              "                  transformers=[(&#x27;categorical&#x27;,\n",
              "                                 OrdinalEncoder(handle_unknown=&#x27;use_encoded_value&#x27;,\n",
              "                                                unknown_value=-1),\n",
              "                                 [&#x27;NAME&#x27;, &#x27;JOBCLASS&#x27;, &#x27;JC.TITLE&#x27;, &#x27;RACE&#x27;, &#x27;SEX&#x27;,\n",
              "                                  &#x27;EMPTYPE&#x27;, &#x27;HIREDT&#x27;, &#x27;STATENUM&#x27;,\n",
              "                                  &#x27;multiple_full_time_jobs&#x27;,\n",
              "                                  &#x27;combined_multiple_jobs&#x27;])])</pre></div></div></div><div class=\"sk-parallel\"><div class=\"sk-parallel-item\"><div class=\"sk-item\"><div class=\"sk-label-container\"><div class=\"sk-label sk-toggleable\"><input class=\"sk-toggleable__control sk-hidden--visually\" id=\"sk-estimator-id-12\" type=\"checkbox\" ><label for=\"sk-estimator-id-12\" class=\"sk-toggleable__label sk-toggleable__label-arrow\">categorical</label><div class=\"sk-toggleable__content\"><pre>[&#x27;NAME&#x27;, &#x27;JOBCLASS&#x27;, &#x27;JC.TITLE&#x27;, &#x27;RACE&#x27;, &#x27;SEX&#x27;, &#x27;EMPTYPE&#x27;, &#x27;HIREDT&#x27;, &#x27;STATENUM&#x27;, &#x27;multiple_full_time_jobs&#x27;, &#x27;combined_multiple_jobs&#x27;]</pre></div></div></div><div class=\"sk-serial\"><div class=\"sk-item\"><div class=\"sk-estimator sk-toggleable\"><input class=\"sk-toggleable__control sk-hidden--visually\" id=\"sk-estimator-id-13\" type=\"checkbox\" ><label for=\"sk-estimator-id-13\" class=\"sk-toggleable__label sk-toggleable__label-arrow\">OrdinalEncoder</label><div class=\"sk-toggleable__content\"><pre>OrdinalEncoder(handle_unknown=&#x27;use_encoded_value&#x27;, unknown_value=-1)</pre></div></div></div></div></div></div><div class=\"sk-parallel-item\"><div class=\"sk-item\"><div class=\"sk-label-container\"><div class=\"sk-label sk-toggleable\"><input class=\"sk-toggleable__control sk-hidden--visually\" id=\"sk-estimator-id-14\" type=\"checkbox\" ><label for=\"sk-estimator-id-14\" class=\"sk-toggleable__label sk-toggleable__label-arrow\">remainder</label><div class=\"sk-toggleable__content\"><pre></pre></div></div></div><div class=\"sk-serial\"><div class=\"sk-item\"><div class=\"sk-estimator sk-toggleable\"><input class=\"sk-toggleable__control sk-hidden--visually\" id=\"sk-estimator-id-15\" type=\"checkbox\" ><label for=\"sk-estimator-id-15\" class=\"sk-toggleable__label sk-toggleable__label-arrow\">passthrough</label><div class=\"sk-toggleable__content\"><pre>passthrough</pre></div></div></div></div></div></div></div></div><div class=\"sk-item\"><div class=\"sk-estimator sk-toggleable\"><input class=\"sk-toggleable__control sk-hidden--visually\" id=\"sk-estimator-id-16\" type=\"checkbox\" ><label for=\"sk-estimator-id-16\" class=\"sk-toggleable__label sk-toggleable__label-arrow\">HistGradientBoostingRegressor</label><div class=\"sk-toggleable__content\"><pre>HistGradientBoostingRegressor(early_stopping=True, max_iter=200, random_state=0)</pre></div></div></div></div></div></div></div></div></div></div></div></div>"
            ],
            "text/plain": [
              "GridSearchCV(estimator=Pipeline(steps=[('columntransformer',\n",
              "                                        ColumnTransformer(remainder='passthrough',\n",
              "                                                          transformers=[('categorical',\n",
              "                                                                         OrdinalEncoder(handle_unknown='use_encoded_value',\n",
              "                                                                                        unknown_value=-1),\n",
              "                                                                         ['NAME',\n",
              "                                                                          'JOBCLASS',\n",
              "                                                                          'JC.TITLE',\n",
              "                                                                          'RACE',\n",
              "                                                                          'SEX',\n",
              "                                                                          'EMPTYPE',\n",
              "                                                                          'HIREDT',\n",
              "                                                                          'STATENUM',\n",
              "                                                                          'multiple_full_time_jobs',\n",
              "                                                                          'combined_multiple_jobs'])])),\n",
              "                                       ('histgradientboostingregressor',\n",
              "                                        HistGradientBoostingRegressor(early_stopping=True,\n",
              "                                                                      max_iter=200,\n",
              "                                                                      random_state=0))]),\n",
              "             param_grid={'histgradientboostingregressor__learning_rate': [0.1,\n",
              "                                                                          1],\n",
              "                         'histgradientboostingregressor__max_depth': [3, 8],\n",
              "                         'histgradientboostingregressor__max_leaf_nodes': [15,\n",
              "                                                                           31]})"
            ]
          },
          "execution_count": 10,
          "metadata": {},
          "output_type": "execute_result"
        }
      ],
      "source": [
        "grid_search_cv.fit(data, target)"
      ]
    },
    {
      "cell_type": "markdown",
      "id": "33453fc7-d349-402e-b7bf-213c7a22abcf",
      "metadata": {
        "id": "33453fc7-d349-402e-b7bf-213c7a22abcf"
      },
      "source": [
        "## 2.b) Outer cross-validation to estimate the testing error of the tuned model"
      ]
    },
    {
      "cell_type": "code",
      "execution_count": null,
      "id": "1af88f13-ceaf-4e96-bb99-db5e1999033a",
      "metadata": {
        "tags": [],
        "id": "1af88f13-ceaf-4e96-bb99-db5e1999033a"
      },
      "outputs": [],
      "source": [
        "from sklearn.model_selection import cross_validate\n",
        "from sklearn.model_selection import KFold\n",
        "\n",
        "cv_grid = KFold(n_splits=5, shuffle=True, random_state=0)\n",
        "cv_grid_results = cross_validate(\n",
        "    grid_search_cv, data, target, cv=cv_grid, return_estimator=True, scoring=\"neg_mean_absolute_error\"\n",
        ")"
      ]
    },
    {
      "cell_type": "code",
      "execution_count": null,
      "id": "80276029-a702-4edb-a1d9-dd708d622b34",
      "metadata": {
        "tags": [],
        "id": "80276029-a702-4edb-a1d9-dd708d622b34",
        "outputId": "7cc99eb4-4c1e-415a-dc04-cc62e76d6cb0"
      },
      "outputs": [
        {
          "data": {
            "text/html": [
              "<div>\n",
              "<style scoped>\n",
              "    .dataframe tbody tr th:only-of-type {\n",
              "        vertical-align: middle;\n",
              "    }\n",
              "\n",
              "    .dataframe tbody tr th {\n",
              "        vertical-align: top;\n",
              "    }\n",
              "\n",
              "    .dataframe thead th {\n",
              "        text-align: right;\n",
              "    }\n",
              "</style>\n",
              "<table border=\"1\" class=\"dataframe\">\n",
              "  <thead>\n",
              "    <tr style=\"text-align: right;\">\n",
              "      <th></th>\n",
              "      <th>param_histgradientboostingregressor__learning_rate</th>\n",
              "      <th>param_histgradientboostingregressor__max_depth</th>\n",
              "      <th>param_histgradientboostingregressor__max_leaf_nodes</th>\n",
              "      <th>split0_test_score</th>\n",
              "      <th>split1_test_score</th>\n",
              "      <th>split2_test_score</th>\n",
              "      <th>split3_test_score</th>\n",
              "      <th>split4_test_score</th>\n",
              "      <th>mean_test_score</th>\n",
              "      <th>std_test_score</th>\n",
              "      <th>rank_test_score</th>\n",
              "    </tr>\n",
              "  </thead>\n",
              "  <tbody>\n",
              "    <tr>\n",
              "      <th>3</th>\n",
              "      <td>0.1</td>\n",
              "      <td>8</td>\n",
              "      <td>31</td>\n",
              "      <td>0.845413</td>\n",
              "      <td>0.847049</td>\n",
              "      <td>0.820707</td>\n",
              "      <td>0.770773</td>\n",
              "      <td>0.552708</td>\n",
              "      <td>0.767330</td>\n",
              "      <td>0.110793</td>\n",
              "      <td>1</td>\n",
              "    </tr>\n",
              "    <tr>\n",
              "      <th>7</th>\n",
              "      <td>1</td>\n",
              "      <td>8</td>\n",
              "      <td>31</td>\n",
              "      <td>0.819423</td>\n",
              "      <td>0.816096</td>\n",
              "      <td>0.790549</td>\n",
              "      <td>0.740270</td>\n",
              "      <td>0.560647</td>\n",
              "      <td>0.745397</td>\n",
              "      <td>0.096619</td>\n",
              "      <td>2</td>\n",
              "    </tr>\n",
              "    <tr>\n",
              "      <th>6</th>\n",
              "      <td>1</td>\n",
              "      <td>8</td>\n",
              "      <td>15</td>\n",
              "      <td>0.795300</td>\n",
              "      <td>0.827508</td>\n",
              "      <td>0.789853</td>\n",
              "      <td>0.790284</td>\n",
              "      <td>0.487058</td>\n",
              "      <td>0.738001</td>\n",
              "      <td>0.126245</td>\n",
              "      <td>3</td>\n",
              "    </tr>\n",
              "    <tr>\n",
              "      <th>2</th>\n",
              "      <td>0.1</td>\n",
              "      <td>8</td>\n",
              "      <td>15</td>\n",
              "      <td>0.825877</td>\n",
              "      <td>0.819220</td>\n",
              "      <td>0.798020</td>\n",
              "      <td>0.745863</td>\n",
              "      <td>0.486766</td>\n",
              "      <td>0.735149</td>\n",
              "      <td>0.127327</td>\n",
              "      <td>4</td>\n",
              "    </tr>\n",
              "    <tr>\n",
              "      <th>4</th>\n",
              "      <td>1</td>\n",
              "      <td>3</td>\n",
              "      <td>15</td>\n",
              "      <td>0.797735</td>\n",
              "      <td>0.813656</td>\n",
              "      <td>0.812368</td>\n",
              "      <td>0.740385</td>\n",
              "      <td>0.472954</td>\n",
              "      <td>0.727419</td>\n",
              "      <td>0.130014</td>\n",
              "      <td>5</td>\n",
              "    </tr>\n",
              "  </tbody>\n",
              "</table>\n",
              "</div>"
            ],
            "text/plain": [
              "  param_histgradientboostingregressor__learning_rate  \\\n",
              "3                                                0.1   \n",
              "7                                                  1   \n",
              "6                                                  1   \n",
              "2                                                0.1   \n",
              "4                                                  1   \n",
              "\n",
              "  param_histgradientboostingregressor__max_depth  \\\n",
              "3                                              8   \n",
              "7                                              8   \n",
              "6                                              8   \n",
              "2                                              8   \n",
              "4                                              3   \n",
              "\n",
              "  param_histgradientboostingregressor__max_leaf_nodes  split0_test_score  \\\n",
              "3                                                 31            0.845413   \n",
              "7                                                 31            0.819423   \n",
              "6                                                 15            0.795300   \n",
              "2                                                 15            0.825877   \n",
              "4                                                 15            0.797735   \n",
              "\n",
              "   split1_test_score  split2_test_score  split3_test_score  split4_test_score  \\\n",
              "3           0.847049           0.820707           0.770773           0.552708   \n",
              "7           0.816096           0.790549           0.740270           0.560647   \n",
              "6           0.827508           0.789853           0.790284           0.487058   \n",
              "2           0.819220           0.798020           0.745863           0.486766   \n",
              "4           0.813656           0.812368           0.740385           0.472954   \n",
              "\n",
              "   mean_test_score  std_test_score  rank_test_score  \n",
              "3         0.767330        0.110793                1  \n",
              "7         0.745397        0.096619                2  \n",
              "6         0.738001        0.126245                3  \n",
              "2         0.735149        0.127327                4  \n",
              "4         0.727419        0.130014                5  "
            ]
          },
          "execution_count": 12,
          "metadata": {},
          "output_type": "execute_result"
        }
      ],
      "source": [
        "# To find the best values of the hyperparameters\n",
        "pd.DataFrame(grid_search_cv.cv_results_).drop([\"mean_fit_time\", \"std_fit_time\", \"mean_score_time\", \"std_score_time\", \"params\"], axis=1).sort_values(\"mean_test_score\", ascending=False).head()"
      ]
    },
    {
      "cell_type": "code",
      "execution_count": null,
      "id": "93b38b15-b319-48a6-9732-31b4486a4525",
      "metadata": {
        "tags": [],
        "id": "93b38b15-b319-48a6-9732-31b4486a4525",
        "outputId": "af9e6857-cf84-44d7-cde1-f2ba19ce1e4a"
      },
      "outputs": [
        {
          "data": {
            "text/html": [
              "<div>\n",
              "<style scoped>\n",
              "    .dataframe tbody tr th:only-of-type {\n",
              "        vertical-align: middle;\n",
              "    }\n",
              "\n",
              "    .dataframe tbody tr th {\n",
              "        vertical-align: top;\n",
              "    }\n",
              "\n",
              "    .dataframe thead th {\n",
              "        text-align: right;\n",
              "    }\n",
              "</style>\n",
              "<table border=\"1\" class=\"dataframe\">\n",
              "  <thead>\n",
              "    <tr style=\"text-align: right;\">\n",
              "      <th></th>\n",
              "      <th>fit_time</th>\n",
              "      <th>score_time</th>\n",
              "      <th>estimator</th>\n",
              "      <th>test_score</th>\n",
              "      <th>test_error</th>\n",
              "    </tr>\n",
              "  </thead>\n",
              "  <tbody>\n",
              "    <tr>\n",
              "      <th>0</th>\n",
              "      <td>58.492760</td>\n",
              "      <td>0.193298</td>\n",
              "      <td>GridSearchCV(estimator=Pipeline(steps=[('colum...</td>\n",
              "      <td>-6682.603648</td>\n",
              "      <td>6682.603648</td>\n",
              "    </tr>\n",
              "    <tr>\n",
              "      <th>1</th>\n",
              "      <td>61.016234</td>\n",
              "      <td>0.203875</td>\n",
              "      <td>GridSearchCV(estimator=Pipeline(steps=[('colum...</td>\n",
              "      <td>-6767.289082</td>\n",
              "      <td>6767.289082</td>\n",
              "    </tr>\n",
              "    <tr>\n",
              "      <th>2</th>\n",
              "      <td>61.785283</td>\n",
              "      <td>0.188250</td>\n",
              "      <td>GridSearchCV(estimator=Pipeline(steps=[('colum...</td>\n",
              "      <td>-6457.933422</td>\n",
              "      <td>6457.933422</td>\n",
              "    </tr>\n",
              "    <tr>\n",
              "      <th>3</th>\n",
              "      <td>60.338220</td>\n",
              "      <td>0.261263</td>\n",
              "      <td>GridSearchCV(estimator=Pipeline(steps=[('colum...</td>\n",
              "      <td>-6842.160579</td>\n",
              "      <td>6842.160579</td>\n",
              "    </tr>\n",
              "    <tr>\n",
              "      <th>4</th>\n",
              "      <td>62.674114</td>\n",
              "      <td>0.188245</td>\n",
              "      <td>GridSearchCV(estimator=Pipeline(steps=[('colum...</td>\n",
              "      <td>-6727.041356</td>\n",
              "      <td>6727.041356</td>\n",
              "    </tr>\n",
              "  </tbody>\n",
              "</table>\n",
              "</div>"
            ],
            "text/plain": [
              "    fit_time  score_time                                          estimator  \\\n",
              "0  58.492760    0.193298  GridSearchCV(estimator=Pipeline(steps=[('colum...   \n",
              "1  61.016234    0.203875  GridSearchCV(estimator=Pipeline(steps=[('colum...   \n",
              "2  61.785283    0.188250  GridSearchCV(estimator=Pipeline(steps=[('colum...   \n",
              "3  60.338220    0.261263  GridSearchCV(estimator=Pipeline(steps=[('colum...   \n",
              "4  62.674114    0.188245  GridSearchCV(estimator=Pipeline(steps=[('colum...   \n",
              "\n",
              "    test_score   test_error  \n",
              "0 -6682.603648  6682.603648  \n",
              "1 -6767.289082  6767.289082  \n",
              "2 -6457.933422  6457.933422  \n",
              "3 -6842.160579  6842.160579  \n",
              "4 -6727.041356  6727.041356  "
            ]
          },
          "execution_count": 13,
          "metadata": {},
          "output_type": "execute_result"
        }
      ],
      "source": [
        "cv_grid_results = pd.DataFrame(cv_grid_results)\n",
        "cv_grid_results[\"test_error\"] = -cv_grid_results[\"test_score\"]\n",
        "cv_grid_results.head(5)"
      ]
    },
    {
      "cell_type": "code",
      "execution_count": null,
      "id": "6bb9b88d-731a-46e6-9797-27bb74a188d6",
      "metadata": {
        "tags": [],
        "id": "6bb9b88d-731a-46e6-9797-27bb74a188d6",
        "outputId": "1ad2e766-036f-411b-8192-614d6d099f10"
      },
      "outputs": [
        {
          "name": "stdout",
          "output_type": "stream",
          "text": [
            "The mean cross-validated testing error is: 6695.41 k$\n",
            "The standard deviation of the testing error is: 145.14 k$\n"
          ]
        }
      ],
      "source": [
        "print(\n",
        "    \"The mean cross-validated testing error is: \"\n",
        "    f\"{cv_grid_results['test_error'].mean():.2f} k$\"\n",
        ")\n",
        "print(\n",
        "    \"The standard deviation of the testing error is: \"\n",
        "    f\"{cv_grid_results['test_error'].std():.2f} k$\"\n",
        ")"
      ]
    },
    {
      "cell_type": "markdown",
      "id": "dc7c27c5-c0fc-4c11-9a5f-0c1aa2463912",
      "metadata": {
        "id": "dc7c27c5-c0fc-4c11-9a5f-0c1aa2463912"
      },
      "source": [
        "# 3) Prediction for the hold-out dataset"
      ]
    },
    {
      "cell_type": "markdown",
      "id": "9849147d-885e-4cdd-9674-e03bc9363839",
      "metadata": {
        "id": "9849147d-885e-4cdd-9674-e03bc9363839"
      },
      "source": [
        "We choose the model made with the randomized-search hyperparameter tuning because after outer cross-validation the testing error is smaller."
      ]
    },
    {
      "cell_type": "code",
      "execution_count": null,
      "id": "e4484827-1d31-4e54-9eb4-2b70acd47d7c",
      "metadata": {
        "tags": [],
        "id": "e4484827-1d31-4e54-9eb4-2b70acd47d7c"
      },
      "outputs": [],
      "source": [
        "# Formatting of test_df\n",
        "\n",
        "numerical_columns = [\n",
        "    \"AGY\",\n",
        "    \"RATE\",\n",
        "    \"HRSWKD\",\n",
        "]\n",
        "categorical_columns = [\n",
        "    \"NAME\",\n",
        "    # \"MI\", # it's probably \"Middle initial\", so useless\n",
        "    \"JOBCLASS\",\n",
        "    \"JC.TITLE\",\n",
        "    \"RACE\",\n",
        "    \"SEX\",\n",
        "    \"EMPTYPE\",\n",
        "    \"HIREDT\",\n",
        "    \"STATENUM\",\n",
        "    \"multiple_full_time_jobs\",\n",
        "    \"combined_multiple_jobs\",\n",
        "]\n",
        "all_columns = numerical_columns + categorical_columns\n",
        "\n",
        "test_df = test_df[all_columns]\n",
        "\n",
        "# Dealing with missing values for data\n",
        "#data[numerical_columns] = data[numerical_columns].fillna(data[numerical_columns].median()) # replace NaNs with column medians\n",
        "\n",
        "from sklearn.impute import SimpleImputer\n",
        "imp = SimpleImputer(strategy=\"constant\", fill_value=False)\n",
        "test_df[[\"multiple_full_time_jobs\", \"combined_multiple_jobs\"]] = imp.fit_transform(test_df[[\"multiple_full_time_jobs\", \"combined_multiple_jobs\"]])\n",
        "test_df['multiple_full_time_jobs'] = test_df['multiple_full_time_jobs'].replace({True: 'Yes', False: 'No'})\n",
        "test_df['combined_multiple_jobs'] = test_df['combined_multiple_jobs'].replace({True: 'Yes', False: 'No'})"
      ]
    },
    {
      "cell_type": "code",
      "execution_count": null,
      "id": "d19ebe84-1ce0-40e3-b1bc-2dbb727ff440",
      "metadata": {
        "tags": [],
        "id": "d19ebe84-1ce0-40e3-b1bc-2dbb727ff440"
      },
      "outputs": [],
      "source": [
        "# Making the prediction\n",
        "\n",
        "target_predicted = random_search_cv.predict(test_df)"
      ]
    },
    {
      "cell_type": "code",
      "execution_count": null,
      "id": "6f64c253-48b1-4f5c-a140-11d4304f58e8",
      "metadata": {
        "tags": [],
        "id": "6f64c253-48b1-4f5c-a140-11d4304f58e8"
      },
      "outputs": [],
      "source": [
        "# Importing a new unmodified test.csv, adding the column ANNUAL and creating the csv with just the additional column\n",
        "\n",
        "import csv\n",
        "\n",
        "test_df_to_send = pd.read_csv('C:/Users/Fullstack1/Documents/Cours/2022-2023 M1 QESS/Artificial intelligence & Social sciences/AIandSHS/test.csv', index_col=0, keep_default_na=False) # i.e. without the formatting made for doing the model\n",
        "test_df_to_send['ANNUAL.prediction'] = target_predicted\n",
        "\n",
        "def quote_strings(val, quote_required):\n",
        "    if isinstance(val, str) and val != 'NA' and quote_required:\n",
        "        return f'\"{val}\"'\n",
        "    else:\n",
        "        return val\n",
        "\n",
        "no_quote_columns = [\"AGY\", \"RATE\", \"HRSWKD\", \"STATENUM\", \"multiple_full_time_jobs\", \"combined_multiple_jobs\", \"ANNUAL.prediction\"]\n",
        "\n",
        "for column in test_df_to_send.columns:\n",
        "    quote_required = column not in no_quote_columns\n",
        "    test_df_to_send[column] = test_df_to_send[column].apply(lambda x: quote_strings(x, quote_required))\n",
        "\n",
        "test_df_to_send.to_csv('name_surname_predictions.csv', index=True, quoting=csv.QUOTE_NONE, escapechar='\\\\') # The index=False parameter is used to prevent pandas from saving the index column."
      ]
    },
    {
      "cell_type": "markdown",
      "id": "9fe7f17e-8d3a-436e-bcba-0c96c1223cbe",
      "metadata": {
        "id": "9fe7f17e-8d3a-436e-bcba-0c96c1223cbe"
      },
      "source": [
        "# 4) How the training sample size changes the learning capacities: plot with the RMSE as a function of n"
      ]
    },
    {
      "cell_type": "code",
      "execution_count": null,
      "id": "76b4edbd-a745-44e5-a421-60c19812c37a",
      "metadata": {
        "tags": [],
        "id": "76b4edbd-a745-44e5-a421-60c19812c37a",
        "outputId": "710fcda7-170d-4e8d-9e83-04b34d4cc282"
      },
      "outputs": [
        {
          "data": {
            "image/png": "[encoded data removed]",
            "text/plain": [
              "<Figure size 640x480 with 1 Axes>"
            ]
          },
          "metadata": {},
          "output_type": "display_data"
        }
      ],
      "source": [
        "import numpy as np\n",
        "\n",
        "train_sizes = np.linspace(0.1, 1.0, num=5, endpoint=True)\n",
        "train_sizes\n",
        "\n",
        "from sklearn.model_selection import LearningCurveDisplay, ShuffleSplit\n",
        "\n",
        "cv_sample = ShuffleSplit(n_splits=5, test_size=0.2)\n",
        "\n",
        "\n",
        "display = LearningCurveDisplay.from_estimator(\n",
        "    model_hist,\n",
        "    data,\n",
        "    target,\n",
        "    train_sizes=train_sizes,\n",
        "    cv=cv_sample,\n",
        "    score_type=\"both\",  # both train and test errors\n",
        "    scoring=\"neg_root_mean_squared_error\",\n",
        "    negate_score=True,  # to use when metric starts with \"neg_\"\n",
        "    log_scale=True,  # sets log scale for the x-axis\n",
        "    score_name=\"Root mean squared error (RMSE)\",\n",
        "    std_display_style=\"errorbar\",\n",
        "    n_jobs=2,\n",
        ")\n",
        "_ = display.ax_.set_title(\"Learning curve for predictor (HistGradientBoostingRegressor)\")"
      ]
    }
  ],
  "metadata": {
    "kernelspec": {
      "display_name": "Python 3 (ipykernel)",
      "language": "python",
      "name": "python3"
    },
    "language_info": {
      "codemirror_mode": {
        "name": "ipython",
        "version": 3
      },
      "file_extension": ".py",
      "mimetype": "text/x-python",
      "name": "python",
      "nbconvert_exporter": "python",
      "pygments_lexer": "ipython3",
      "version": "3.9.13"
    },
    "colab": {
      "provenance": []
    }
  },
  "nbformat": 4,
  "nbformat_minor": 5
}